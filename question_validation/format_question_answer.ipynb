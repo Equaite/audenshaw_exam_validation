{
 "cells": [
  {
   "cell_type": "code",
   "execution_count": 76,
   "metadata": {},
   "outputs": [],
   "source": [
    "import os\n",
    "import logging\n",
    "import pandas as pd\n",
    "from pathlib import Path\n",
    "import yaml"
   ]
  },
  {
   "cell_type": "code",
   "execution_count": 77,
   "metadata": {},
   "outputs": [
    {
     "data": {
      "text/plain": [
       "'/Users/amiralkateb/Documents/GitRepos/audenshaw_exam_validation'"
      ]
     },
     "execution_count": 77,
     "metadata": {},
     "output_type": "execute_result"
    }
   ],
   "source": [
    "# Set working directory - Not required if using Jupyter outside of VScode\n",
    "workdir = os.environ[\"workdir\"]\n",
    "os.chdir(workdir)\n",
    "os.getcwd()"
   ]
  },
  {
   "cell_type": "code",
   "execution_count": 78,
   "metadata": {},
   "outputs": [],
   "source": [
    "logging.basicConfig(\n",
    "    level=logging.INFO,\n",
    "    format='%(process)d-%(levelname)s-%(message)s',\n",
    "    datefmt=\"%Y-%m-%d %H:%M:%S\",\n",
    "    )\n"
   ]
  },
  {
   "cell_type": "code",
   "execution_count": 79,
   "metadata": {},
   "outputs": [],
   "source": [
    "# helper function\n",
    "def extract_level_structure(markstring):\n",
    "  \n",
    "    levels_dict = {}\n",
    "    data = yaml.safe_load(markstring)\n",
    "\n",
    "    for level, content in data.items():\n",
    "        try:\n",
    "            marks = content['marks_awarded']\n",
    "            levels_dict[int(level[-1])] = sorted({int(marks['minimum']), int(marks['maximum'])})\n",
    "        except:\n",
    "            print(\"yaml error\")\n",
    "    #if there is no 0, add it in\n",
    "    if min(levels_dict.get(min(levels_dict.keys()))) >0:\n",
    "        levels_dict[0] = [0]\n",
    "        levels_dict = {key: levels_dict[key] for key in sorted(levels_dict)}\n",
    "\n",
    "    if len(levels_dict.keys()) > 0:\n",
    "        return levels_dict\n",
    "    else:\n",
    "        return None\n"
   ]
  },
  {
   "cell_type": "code",
   "execution_count": 80,
   "metadata": {},
   "outputs": [],
   "source": [
    "data_dir = Path(f\"{workdir}/data\")\n",
    "\n",
    "question_info = pd.read_csv(data_dir / \"questions.csv\")\n",
    "mark_scheme_table = pd.read_csv(data_dir / \"mark_scheme.csv\")\n",
    "student_answers = pd.read_csv(data_dir / \"answers.csv\")\n"
   ]
  },
  {
   "cell_type": "code",
   "execution_count": 81,
   "metadata": {},
   "outputs": [],
   "source": [
    "question_answers_merged = pd.merge(student_answers, question_info, on = [\"question_id\", \"subject_id\"], how = \"left\")"
   ]
  },
  {
   "cell_type": "code",
   "execution_count": 82,
   "metadata": {},
   "outputs": [],
   "source": [
    "# Join Mark Scheme Text\n",
    "question_answers_ms_merged = pd.merge(question_answers_merged, mark_scheme_table[[\"question_id\", \"subject_id\", \"structured_mark_scheme_text\"]], on = [\"question_id\", \"subject_id\"], how = \"left\")\n",
    "\n",
    "# Rename Columns\n",
    "question_answers_ms_merged = question_answers_ms_merged.rename(columns = {\"structured_mark_scheme_text\": \"mark_scheme_text\"})"
   ]
  },
  {
   "cell_type": "code",
   "execution_count": 83,
   "metadata": {},
   "outputs": [],
   "source": [
    "columns = [\"subject_id\", \"question_id\", \"question_type\", \"student_id\",\"question_text\", \"mark_scheme_text\", \"context\", \"answer_text\", \"awarded_marks\", \"total_marks\", \"answer_id\", \"linked_answer_id\", \"topic_id\", \"answer_scanned_image\"]\n",
    "student_answers_pivoted_merged = question_answers_ms_merged[columns]\n",
    "student_answers_pivoted_merged = student_answers_pivoted_merged.sort_values(by=[\"student_id\", \"question_id\"]).reset_index(drop = True)"
   ]
  },
  {
   "cell_type": "code",
   "execution_count": 84,
   "metadata": {},
   "outputs": [],
   "source": [
    "# Check for Duplicates and ensure tables are the same size\n",
    "assert student_answers.drop_duplicates().shape[0] == student_answers_pivoted_merged.drop_duplicates().shape[0]"
   ]
  },
  {
   "cell_type": "code",
   "execution_count": 85,
   "metadata": {},
   "outputs": [
    {
     "name": "stdout",
     "output_type": "stream",
     "text": [
      "yaml error\n",
      "yaml error\n",
      "yaml error\n",
      "yaml error\n",
      "yaml error\n",
      "yaml error\n",
      "yaml error\n",
      "yaml error\n",
      "yaml error\n",
      "yaml error\n",
      "yaml error\n",
      "yaml error\n",
      "yaml error\n",
      "yaml error\n",
      "yaml error\n",
      "yaml error\n",
      "yaml error\n",
      "yaml error\n",
      "yaml error\n",
      "yaml error\n"
     ]
    },
    {
     "data": {
      "text/plain": [
       "0      NaN\n",
       "1      NaN\n",
       "2      NaN\n",
       "3      NaN\n",
       "4      NaN\n",
       "      ... \n",
       "138    NaN\n",
       "139    NaN\n",
       "140    NaN\n",
       "141    NaN\n",
       "142    NaN\n",
       "Name: level_structure, Length: 143, dtype: object"
      ]
     },
     "execution_count": 85,
     "metadata": {},
     "output_type": "execute_result"
    }
   ],
   "source": [
    "\n",
    "valid_types = [\n",
    "    'bs_discuss', 'bs_analyse', 'bs_justify', 'bs_evaluate', \n",
    "    'hs_explain', 'hs_analyse', 'hs_judgement', 'hs_spag'\n",
    "]\n",
    "student_answers_pivoted_merged['level_structure'] = student_answers_pivoted_merged.apply(lambda row: extract_level_structure(row['mark_scheme_text']) if row['question_type'] in valid_types else None, axis =1)\n",
    "        \n",
    "\n",
    "\n",
    "\n",
    "\n",
    "#student_answers_pivoted_merged.loc[0]['mark_scheme_text']\n",
    "\n",
    "student_answers_pivoted_merged['level_structure'].where(student_answers_pivoted_merged['question_type'] == 'bs_mcq')\n",
    "\n",
    "#"
   ]
  },
  {
   "cell_type": "code",
   "execution_count": 86,
   "metadata": {},
   "outputs": [
    {
     "name": "stdout",
     "output_type": "stream",
     "text": [
      "{4: [7, 8], 3: [5, 6], 2: [3, 4], 1: [1, 2], 0: [0]}\n"
     ]
    }
   ],
   "source": [
    "# Save questions and answers\n",
    "print(student_answers_pivoted_merged.loc[2]['level_structure'])\n",
    "savedir = Path(workdir)  / \"validation_results\" / \"processed_data\"\n",
    "Path(savedir).mkdir(parents=True, exist_ok=True)\n",
    "\n",
    "student_answers_pivoted_merged.to_csv(savedir / \"student_answers_augmented.csv\", index=False)"
   ]
  },
  {
   "cell_type": "code",
   "execution_count": 87,
   "metadata": {},
   "outputs": [
    {
     "name": "stdout",
     "output_type": "stream",
     "text": [
      "Level_1:\n",
      "  description: \n",
      "    - Limited application of knowledge and understanding of business concepts and issues to the business context (AO2).\n",
      "  marks_awarded:\n",
      "    maximum: 3\n",
      "    minimum: 1\n",
      "  criteria:\n",
      "    - Attempts to deconstruct business information and/or issues, finding limited connections between points (AO3a).\n",
      "    - Makes a judgement, providing a simple justification based on limited evaluation of business information and issues relevant to the choice made (AO3b).\n",
      "  progression:\n",
      "    - Students can progress to this level by demonstrating a basic understanding of business concepts and making simple connections between points.\n",
      "  example_answer: \n",
      "    - Ripple provides green energy through its wind farm in South Wales. Therefore, they would have to pay less tax to the government on any profits made from production and supply of energy. (AO2).\n",
      "\n",
      "Level_2:\n",
      "  description: \n",
      "    - Sound application of knowledge and understanding of business concepts and issues to the business context although there may be some inconsistencies (AO2).\n",
      "  marks_awarded:\n",
      "    maximum: 6\n",
      "    minimum: 4\n",
      "  criteria:\n",
      "    - Deconstructs business information and/or issues, finding interconnected points with chains of reasoning, although there may be some logical inconsistencies (AO3a).\n",
      "    - Makes a judgement, providing a justification based on sound evaluation of business information and issues relevant to the choice made (AO3b).\n",
      "  progression:\n",
      "    - Students can progress to this level by providing more consistent and interconnected points and making sound evaluations.\n",
      "  example_answer: \n",
      "    - As Ripple grows it will need to employ new people in line with the government target of 220,000 new jobs in the green energy sector. As these are new jobs there will be a need for training to develop new skills. (AO2).\n",
      "    - If Ripple pays less tax to the government then it would have more retained profit to invest into the business. This could result in cheaper energy being provided to its members. As a result, Ripple may attract more investment and could then expand into other green business ideas (AO3a).\n",
      "\n",
      "Level_3:\n",
      "  description: \n",
      "    - Detailed application of knowledge and understanding of business concepts and issues to the business context throughout (AO2).\n",
      "  marks_awarded:\n",
      "    maximum: 9\n",
      "    minimum: 7\n",
      "  criteria:\n",
      "    - Deconstructs business information and/or issues, finding detailed interconnected points with logical chains of reasoning (AO3a).\n",
      "    - Makes a judgement, providing a clear justification based on a thorough evaluation of business information and issues relevant to the choice made (AO3b).\n",
      "  progression:\n",
      "    - Students can progress to this level by demonstrating thorough and detailed understanding with logically connected reasoning and clear justifications.\n",
      "  example_answer: \n",
      "    - Training courses can be expensive. Sending new employees on these courses would increase the costs of Ripple. Therefore, if the government pays for this training then Ripple could focus more of its members’ investment into expanding the wind farm (AO3a).\n",
      "    - However, the business is owned by the customers and the main objective may not be profit maximisation. This would limit the effect that any reduction in tax would have on the business (AO3b).\n",
      "    - However, the business is located in a remote area of the country and may not need to employ many people to manage the wind farm. Therefore, they might not have enough training requirements to fully benefit from the government strategy (AO3b).\n",
      "\n",
      "{0: [0], 1: [1, 3], 2: [4, 6], 3: [7, 9]}\n"
     ]
    }
   ],
   "source": [
    "index = 129\n",
    "#print(student_answers_pivoted_merged.loc[index]['mark_scheme_text'])\n",
    "\n",
    "out = student_answers_pivoted_merged[student_answers_pivoted_merged['question_id'] == 7.4]\n",
    "out = out[out['student_id'] == 5002]\n",
    "mark = out.loc[40]['mark_scheme_text']\n",
    "\n",
    "print(mark)\n",
    "\n",
    "print(extract_level_structure(mark))"
   ]
  },
  {
   "cell_type": "code",
   "execution_count": null,
   "metadata": {},
   "outputs": [],
   "source": []
  }
 ],
 "metadata": {
  "kernelspec": {
   "display_name": "assessment_llm_project",
   "language": "python",
   "name": "python3"
  },
  "language_info": {
   "codemirror_mode": {
    "name": "ipython",
    "version": 3
   },
   "file_extension": ".py",
   "mimetype": "text/x-python",
   "name": "python",
   "nbconvert_exporter": "python",
   "pygments_lexer": "ipython3",
   "version": "3.10.11"
  }
 },
 "nbformat": 4,
 "nbformat_minor": 2
}
