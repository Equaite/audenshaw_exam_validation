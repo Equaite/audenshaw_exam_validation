{
 "cells": [
  {
   "cell_type": "code",
   "execution_count": 39,
   "metadata": {},
   "outputs": [],
   "source": [
    "import os\n",
    "import logging\n",
    "import pandas as pd\n",
    "import yaml\n",
    "from pathlib import Path\n",
    "from collections import OrderedDict\n",
    "from typing import Union"
   ]
  },
  {
   "cell_type": "code",
   "execution_count": 40,
   "metadata": {},
   "outputs": [
    {
     "data": {
      "text/plain": [
       "'/Users/junaid/Developer/audenshaw_exam_validation'"
      ]
     },
     "execution_count": 40,
     "metadata": {},
     "output_type": "execute_result"
    }
   ],
   "source": [
    "# Set working directory - Not required if using Jupyter outside of VScode\n",
    "workdir = os.environ[\"workdir\"]\n",
    "os.chdir(workdir)\n",
    "os.getcwd()"
   ]
  },
  {
   "cell_type": "code",
   "execution_count": 41,
   "metadata": {},
   "outputs": [],
   "source": [
    "logging.basicConfig(\n",
    "    level=logging.INFO,\n",
    "    format='%(process)d-%(levelname)s-%(message)s',\n",
    "    datefmt=\"%Y-%m-%d %H:%M:%S\",\n",
    "    )\n"
   ]
  },
  {
   "cell_type": "code",
   "execution_count": 42,
   "metadata": {},
   "outputs": [],
   "source": [
    "# Extract Level from Mark Scheme YAML Helper Function\n",
    "def extract_level_structure(markstring):\n",
    "    \n",
    "    levels_dict = OrderedDict()\n",
    "    data = yaml.safe_load(markstring)\n",
    "\n",
    "    for level, content in data.items():\n",
    "        # Extract marks for marking level, if present in mark scheme text\n",
    "        try:\n",
    "            marks_for_level = content.get(\"marks_awarded\")\n",
    "            sorted_marks_for_level = list(\n",
    "                {\n",
    "                int(marks_for_level[\"minimum\"]), \n",
    "                int(marks_for_level[\"maximum\"]) \n",
    "                })\n",
    "\n",
    "            try:\n",
    "                level_number = int( level.split(\"_\")[-1] )\n",
    "                levels_dict[level_number] = sorted_marks_for_level      \n",
    "            except ValueError as e:\n",
    "                # Skip if Level Number is not included\n",
    "                pass                       \n",
    "        \n",
    "        except AttributeError as e:\n",
    "            pass\n",
    "\n",
    "    # If there is Level with 0 marks, add it\n",
    "    try: \n",
    "        level_marks = levels_dict.keys()\n",
    "        levels_marks_extracted = levels_dict.values()\n",
    "        \n",
    "        if [0] not in levels_marks_extracted:\n",
    "            levels_dict[0] = [0]\n",
    "        \n",
    "        if 0 in level_marks:\n",
    "            levels_dict.move_to_end(key=0, last=False)\n",
    "\n",
    "    except ValueError as e:\n",
    "        pass\n",
    "\n",
    "    # Output\n",
    "    levels_extracted = dict(levels_dict) if len(levels_dict.keys()) > 0 else None\n",
    "\n",
    "    return levels_extracted\n",
    "\n",
    "def detect_marking_levels(markstring: str) -> Union[bool, None]:\n",
    "    \"\"\"\n",
    "    Detects if a YAML string contains marking levels.\n",
    "\n",
    "    Parameters\n",
    "    ----------\n",
    "    markstring: str\n",
    "        The YAML string to be parsed.\n",
    "\n",
    "    Returns\n",
    "    -------\n",
    "    level_detected_flag: Union[bool, None]\n",
    "        - True if marking levels are detected.\n",
    "        - None if no marking levels are detected or an error occurs during parsing.\n",
    "    \"\"\"\n",
    "\n",
    "    try:\n",
    "        data = yaml.safe_load(markstring)\n",
    "\n",
    "        yaml_keys = list(data.keys())\n",
    "        yaml_level_keys = [key for key in yaml_keys if 'Level_' in key]\n",
    "        yaml_level_marking_extracted_levels = [int(lvl) if lvl.isdigit() else None for lvl in [key.split(\"_\")[-1] for key in yaml_level_keys]] \n",
    "\n",
    "        level_detected_flag = True if len( yaml_level_marking_extracted_levels ) > 0 else None\n",
    "    except Exception:\n",
    "        level_detected_flag = None\n",
    "\n",
    "    return level_detected_flag\n"
   ]
  },
  {
   "cell_type": "code",
   "execution_count": 43,
   "metadata": {},
   "outputs": [],
   "source": [
    "data_dir = Path(f\"{workdir}/data\")\n",
    "\n",
    "question_info = pd.read_csv(data_dir / \"questions.csv\")\n",
    "mark_scheme_table = pd.read_csv(data_dir / \"mark_scheme.csv\")\n",
    "student_answers = pd.read_csv(data_dir / \"answers.csv\")\n"
   ]
  },
  {
   "cell_type": "code",
   "execution_count": 44,
   "metadata": {},
   "outputs": [],
   "source": [
    "question_answers_merged = pd.merge(student_answers, question_info, on = [\"question_id\", \"subject_id\"], how = \"left\")"
   ]
  },
  {
   "cell_type": "code",
   "execution_count": 53,
   "metadata": {},
   "outputs": [],
   "source": [
    "# Add a flag if a mark scheme contains marking levels\n",
    "mark_scheme_table[\"questions_with_marking_level_flag\"] = mark_scheme_table[\"structured_mark_scheme_text\"].apply(lambda x: detect_marking_levels(x))"
   ]
  },
  {
   "cell_type": "code",
   "execution_count": 54,
   "metadata": {},
   "outputs": [],
   "source": [
    "# Join Mark Scheme Text\n",
    "question_answers_ms_merged = pd.merge(question_answers_merged, mark_scheme_table[[\"question_id\", \"subject_id\", \"structured_mark_scheme_text\", \"questions_with_marking_level_flag\"]], on = [\"question_id\", \"subject_id\"], how = \"left\")\n",
    "\n",
    "# Rename Columns\n",
    "question_answers_ms_merged = question_answers_ms_merged.rename(columns = {\"structured_mark_scheme_text\": \"mark_scheme_text\"})"
   ]
  },
  {
   "cell_type": "code",
   "execution_count": 55,
   "metadata": {},
   "outputs": [],
   "source": [
    "columns = [\"subject_id\", \"question_id\", \"question_type\", \"student_id\",\"question_text\", \"mark_scheme_text\", \"questions_with_marking_level_flag\", \"context\", \"answer_text\", \"awarded_marks\", \"total_marks\", \"answer_id\", \"linked_answer_id\", \"topic_id\", \"answer_scanned_image\"]\n",
    "student_answers_pivoted_merged = question_answers_ms_merged[columns]\n",
    "student_answers_pivoted_merged = student_answers_pivoted_merged.sort_values(by=[\"student_id\", \"question_id\"]).reset_index(drop = True)"
   ]
  },
  {
   "cell_type": "code",
   "execution_count": 56,
   "metadata": {},
   "outputs": [],
   "source": [
    "# Check for Duplicates and ensure tables are the same size\n",
    "assert student_answers.drop_duplicates().shape[0] == student_answers_pivoted_merged.drop_duplicates().shape[0]"
   ]
  },
  {
   "cell_type": "code",
   "execution_count": 64,
   "metadata": {},
   "outputs": [],
   "source": [
    "# Extract Level and Marks for each level for question types that have levels \n",
    "valid_types = list(set(student_answers_pivoted_merged[student_answers_pivoted_merged.questions_with_marking_level_flag == 1][\"question_type\"].tolist()))\n",
    "\n",
    "student_answers_pivoted_merged['level_structure'] = student_answers_pivoted_merged.apply(lambda row: extract_level_structure(row['mark_scheme_text']) if row['question_type'] in valid_types else None, axis = 1)"
   ]
  },
  {
   "cell_type": "code",
   "execution_count": 65,
   "metadata": {},
   "outputs": [],
   "source": [
    "# Save questions and answers\n",
    "savedir = Path(workdir)  / \"validation_results\" / \"processed_data\"\n",
    "Path(savedir).mkdir(parents=True, exist_ok=True)\n",
    "\n",
    "student_answers_pivoted_merged.to_csv(savedir / \"student_answers_augmented.csv\", index=False)"
   ]
  },
  {
   "cell_type": "code",
   "execution_count": null,
   "metadata": {},
   "outputs": [],
   "source": []
  },
  {
   "cell_type": "code",
   "execution_count": null,
   "metadata": {},
   "outputs": [],
   "source": []
  }
 ],
 "metadata": {
  "kernelspec": {
   "display_name": "assessment_llm_project",
   "language": "python",
   "name": "python3"
  },
  "language_info": {
   "codemirror_mode": {
    "name": "ipython",
    "version": 3
   },
   "file_extension": ".py",
   "mimetype": "text/x-python",
   "name": "python",
   "nbconvert_exporter": "python",
   "pygments_lexer": "ipython3",
   "version": "3.9.7"
  }
 },
 "nbformat": 4,
 "nbformat_minor": 2
}
