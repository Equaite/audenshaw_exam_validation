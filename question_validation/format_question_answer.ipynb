{
 "cells": [
  {
   "cell_type": "code",
   "execution_count": 1,
   "metadata": {},
   "outputs": [
    {
     "name": "stderr",
     "output_type": "stream",
     "text": [
      "ERROR:root:Failed to update token costs. Using static costs.\n",
      "/Users/junaid/.virtualenvs/assessment_llm_validation/lib/python3.9/site-packages/tokencost/constants.py:61: RuntimeWarning: coroutine 'update_token_costs' was never awaited\n",
      "  TOKEN_COSTS = TOKEN_COSTS_STATIC\n",
      "RuntimeWarning: Enable tracemalloc to get the object allocation traceback\n"
     ]
    },
    {
     "data": {
      "text/plain": [
       "True"
      ]
     },
     "execution_count": 1,
     "metadata": {},
     "output_type": "execute_result"
    }
   ],
   "source": [
    "import os\n",
    "import logging\n",
    "import pandas as pd\n",
    "from pathlib import Path"
   ]
  },
  {
   "cell_type": "code",
   "execution_count": 2,
   "metadata": {},
   "outputs": [
    {
     "data": {
      "text/plain": [
       "'/Users/junaid/Developer/audenshaw_exam_validation'"
      ]
     },
     "execution_count": 2,
     "metadata": {},
     "output_type": "execute_result"
    }
   ],
   "source": [
    "# Set working directory - Not required if using Jupyter outside of VScode\n",
    "workdir = os.environ[\"workdir\"]\n",
    "os.chdir(workdir)\n",
    "os.getcwd()"
   ]
  },
  {
   "cell_type": "code",
   "execution_count": 3,
   "metadata": {},
   "outputs": [],
   "source": [
    "logging.basicConfig(\n",
    "    level=logging.INFO,\n",
    "    format='%(process)d-%(levelname)s-%(message)s'\n",
    "    )\n"
   ]
  },
  {
   "cell_type": "code",
   "execution_count": 18,
   "metadata": {},
   "outputs": [],
   "source": [
    "data_dir = Path(f\"{workdir}/data\")\n",
    "\n",
    "question_info = pd.read_csv(data_dir / \"questions.csv\")\n",
    "mark_scheme_table = pd.read_csv(data_dir / \"mark_scheme.csv\")\n",
    "student_answers = pd.read_csv(data_dir / \"answers.csv\")\n"
   ]
  },
  {
   "cell_type": "code",
   "execution_count": 23,
   "metadata": {},
   "outputs": [],
   "source": [
    "question_answers_merged = pd.merge(student_answers, question_info, on = [\"question_id\", \"subject_id\"], how = \"left\")"
   ]
  },
  {
   "cell_type": "code",
   "execution_count": 25,
   "metadata": {},
   "outputs": [],
   "source": [
    "# Join Mark Scheme Text\n",
    "question_answers_ms_merged = pd.merge(question_answers_merged, mark_scheme_table[[\"question_id\", \"subject_id\", \"structured_mark_scheme_text\"]], on = [\"question_id\", \"subject_id\"], how = \"left\")\n",
    "\n",
    "# Rename Columns\n",
    "question_answers_ms_merged = question_answers_ms_merged.rename(columns = {\"structured_mark_scheme_text\": \"mark_scheme_text\"})"
   ]
  },
  {
   "cell_type": "code",
   "execution_count": 41,
   "metadata": {},
   "outputs": [],
   "source": [
    "columns = [\"subject_id\", \"question_id\", \"question_type\", \"student_id\",\"question_text\", \"mark_scheme_text\", \"context\", \"answer_text\", \"total_marks\", \"answer_id\", \"linked_answer_id\", \"topic_id\", \"answer_scanned_image\"]\n",
    "student_answers_pivoted_merged = question_answers_ms_merged[columns]\n",
    "student_answers_pivoted_merged = student_answers_pivoted_merged.sort_values(by=[\"student_id\", \"question_id\"]).reset_index(drop = True)"
   ]
  },
  {
   "cell_type": "code",
   "execution_count": 42,
   "metadata": {},
   "outputs": [],
   "source": [
    "# Check for Duplicates and ensure tables are the same size\n",
    "assert student_answers.drop_duplicates().shape[0] == student_answers_pivoted_merged.drop_duplicates().shape[0]"
   ]
  },
  {
   "cell_type": "code",
   "execution_count": 43,
   "metadata": {},
   "outputs": [],
   "source": [
    "# Save questions and answers\n",
    "savedir = Path(workdir)  / \"validation_results\" / \"processed_data\"\n",
    "Path(savedir).mkdir(parents=True, exist_ok=True)\n",
    "\n",
    "student_answers_pivoted_merged.to_csv(savedir / \"student_answers_augmented.csv\", index=False)"
   ]
  }
 ],
 "metadata": {
  "kernelspec": {
   "display_name": "assessment_llm_project",
   "language": "python",
   "name": "python3"
  },
  "language_info": {
   "codemirror_mode": {
    "name": "ipython",
    "version": 3
   },
   "file_extension": ".py",
   "mimetype": "text/x-python",
   "name": "python",
   "nbconvert_exporter": "python",
   "pygments_lexer": "ipython3",
   "version": "3.9.7"
  }
 },
 "nbformat": 4,
 "nbformat_minor": 2
}
